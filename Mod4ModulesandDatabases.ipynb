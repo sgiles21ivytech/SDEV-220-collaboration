{
 "cells": [
  {
   "cell_type": "markdown",
   "id": "bb19b537-29a8-4034-8e72-12a384538b43",
   "metadata": {},
   "source": [
    "# 11.1\n",
    "> Create a file called zoo.py. In it, define a function called hours() that prints the string 'Open 9-5 daily'. Then, use the interactive interpreter to import the zoo module and call its hours() function\n"
   ]
  },
  {
   "cell_type": "code",
   "execution_count": 5,
   "id": "132ad057-fd0c-448e-9d26-80ea0c219b88",
   "metadata": {},
   "outputs": [
    {
     "name": "stdout",
     "output_type": "stream",
     "text": [
      "Open 9-5 Daily\n"
     ]
    }
   ],
   "source": [
    "import zoo\n",
    "zoo.hours()"
   ]
  },
  {
   "cell_type": "markdown",
   "id": "9e25d939-08b3-45f7-88b4-df3a935003f6",
   "metadata": {},
   "source": [
    "# 11.2\n",
    "> 2 In the interactive interpreter, import the zoo module as menagerie and call its hours() function."
   ]
  },
  {
   "cell_type": "code",
   "execution_count": 8,
   "id": "9ef1ff94-b669-423a-a7da-80d8ba9879ff",
   "metadata": {},
   "outputs": [
    {
     "name": "stdout",
     "output_type": "stream",
     "text": [
      "Open 9-5 Daily\n"
     ]
    }
   ],
   "source": [
    "import zoo as menagerie\n",
    "menagerie.hours()"
   ]
  },
  {
   "cell_type": "markdown",
   "id": "8b6fc83a-ab3c-4182-af5a-cdc0cc6013c6",
   "metadata": {},
   "source": [
    "# 16.8\n",
    ">  Use the sqlalchemy module to connect to the sqlite3 database books.db\n",
    "> Select and print the title column from the book table in alphabetical order."
   ]
  },
  {
   "cell_type": "code",
   "execution_count": 15,
   "id": "aa28e4c7-4fa6-42ae-a270-0eec97bfa0b3",
   "metadata": {},
   "outputs": [
    {
     "name": "stdout",
     "output_type": "stream",
     "text": [
      "Perdido Street Station\n",
      "Small Gods\n",
      "The Spellman Files\n",
      "The Weirdstone of Brisingamen\n",
      "Thud!\n"
     ]
    }
   ],
   "source": [
    "import sqlalchemy as sa\n",
    "import pandas as pd\n",
    "from sqlalchemy import text\n",
    "\n",
    "# Connect to the database\n",
    "engine = sa.create_engine('sqlite:///books.db')\n",
    "\n",
    "# Query the database and print titles in alphabetical order\n",
    "with engine.connect() as conn:\n",
    "    query = text(\"SELECT title FROM book ORDER BY title ASC\")\n",
    "    result = conn.execute(query)\n",
    "    for row in result:\n",
    "        print(row.title)"
   ]
  },
  {
   "cell_type": "code",
   "execution_count": null,
   "id": "522c44ff-7445-481f-9a58-61a9a3d7836e",
   "metadata": {},
   "outputs": [],
   "source": []
  }
 ],
 "metadata": {
  "kernelspec": {
   "display_name": "Python 3 (ipykernel)",
   "language": "python",
   "name": "python3"
  },
  "language_info": {
   "codemirror_mode": {
    "name": "ipython",
    "version": 3
   },
   "file_extension": ".py",
   "mimetype": "text/x-python",
   "name": "python",
   "nbconvert_exporter": "python",
   "pygments_lexer": "ipython3",
   "version": "3.12.7"
  }
 },
 "nbformat": 4,
 "nbformat_minor": 5
}
