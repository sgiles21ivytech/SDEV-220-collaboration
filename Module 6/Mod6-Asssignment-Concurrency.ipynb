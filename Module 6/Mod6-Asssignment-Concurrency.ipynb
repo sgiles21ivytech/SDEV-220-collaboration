{
 "cells": [
  {
   "cell_type": "markdown",
   "metadata": {},
   "source": [
    "# 13.1 Write the current date as a string to the text file today.txt"
   ]
  },
  {
   "cell_type": "code",
   "execution_count": 2,
   "metadata": {},
   "outputs": [],
   "source": [
    "from datetime import date\n",
    "\n",
    "# Get today's date\n",
    "today = date.today()\n",
    "\n",
    "# Open the file \"today.txt\" in write mode (\"w\") and write the formatted date string\n",
    "with open(\"today.txt\", \"w\") as file:\n",
    "  file.write(today.isoformat())"
   ]
  },
  {
   "cell_type": "markdown",
   "metadata": {},
   "source": [
    "# 13.2 Read the text file today.txt into the string today_string"
   ]
  },
  {
   "cell_type": "code",
   "execution_count": 4,
   "metadata": {},
   "outputs": [
    {
     "name": "stdout",
     "output_type": "stream",
     "text": [
      "2024-12-09\n"
     ]
    }
   ],
   "source": [
    "with open(\"today.txt\", \"r\") as file:\n",
    "    today_string = file.read().strip()\n",
    "print(today_string)"
   ]
  },
  {
   "cell_type": "markdown",
   "metadata": {},
   "source": [
    "# 13.3 Parse the date from today_string"
   ]
  },
  {
   "cell_type": "code",
   "execution_count": 5,
   "metadata": {},
   "outputs": [
    {
     "name": "stdout",
     "output_type": "stream",
     "text": [
      "2024\n",
      "12\n",
      "9\n"
     ]
    }
   ],
   "source": [
    "from datetime import datetime\n",
    "parsed_date = datetime.strptime(today_string, \"%Y-%m-%d\")\n",
    "# You can now access the year, month, and day from the parsed_date object\n",
    "print(parsed_date.year)\n",
    "print(parsed_date.month)\n",
    "print(parsed_date.day)"
   ]
  },
  {
   "cell_type": "markdown",
   "metadata": {},
   "source": [
    "# 15.1 Use multiprocessing to create three separate processes."
   ]
  },
  {
   "cell_type": "code",
   "execution_count": 15,
   "metadata": {},
   "outputs": [
    {
     "name": "stdout",
     "output_type": "stream",
     "text": [
      "Process ID: 16276, Current Time: Mon Dec  9 23:54:45 2024\n",
      "All processes finished!\n"
     ]
    }
   ],
   "source": [
    "import multiprocessing\n",
    "import random\n",
    "import time\n",
    "\n",
    "def worker():\n",
    "    \"\"\"\n",
    "    This function simulates work by waiting a random amount of time between 0 and 1 seconds.\n",
    "    It then prints the current time and exits the process.\n",
    "    \"\"\"\n",
    "    wait_time = random.random()\n",
    "    time.sleep(wait_time)\n",
    "   \n",
    "\n",
    "if __name__ == \"__main__\":\n",
    "    # Create three separate processes\n",
    "    processes = [multiprocessing.Process(target=worker) for _ in range(3)]\n",
    "\n",
    "    # Start all processes\n",
    "    for process in processes:\n",
    "        process.start()\n",
    "\n",
    "    # Wait for all processes to finish\n",
    "    for process in processes:\n",
    "        process.join()\n",
    "    print(f\"Process ID: {multiprocessing.current_process().pid}, Current Time: {time.ctime()}\")\n",
    "    print(\"All processes finished!\")"
   ]
  }
 ],
 "metadata": {
  "kernelspec": {
   "display_name": "Python 3",
   "language": "python",
   "name": "python3"
  },
  "language_info": {
   "codemirror_mode": {
    "name": "ipython",
    "version": 3
   },
   "file_extension": ".py",
   "mimetype": "text/x-python",
   "name": "python",
   "nbconvert_exporter": "python",
   "pygments_lexer": "ipython3",
   "version": "3.13.0"
  }
 },
 "nbformat": 4,
 "nbformat_minor": 2
}
