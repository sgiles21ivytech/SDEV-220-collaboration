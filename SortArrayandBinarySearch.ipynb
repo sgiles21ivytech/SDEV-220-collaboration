{
 "cells": [
  {
   "cell_type": "markdown",
   "id": "fccb4d69-612f-4c6d-a45b-c66800b811ee",
   "metadata": {},
   "source": [
    "# Sort Array of 0's, 1's, and 2's\n",
    "> Given an array arr[] containing only 0s, 1s, and 2s. Sort the array in ascending order.\n"
   ]
  },
  {
   "cell_type": "code",
   "execution_count": 2,
   "id": "a236a0c8-0fc2-4635-b0fb-3ad59984dc27",
   "metadata": {},
   "outputs": [
    {
     "name": "stdout",
     "output_type": "stream",
     "text": [
      "[0, 0, 1, 1, 2, 2]\n"
     ]
    }
   ],
   "source": [
    "class Solution:\n",
    "    # Function to sort an array of 0s, 1s, and 2s\n",
    "    def sort012(self, arr):\n",
    "        # code here\n",
    "        lower = 0\n",
    "        middle = 0\n",
    "        highest = len(arr) - 1\n",
    "        \n",
    "        while middle <= highest:\n",
    "            if arr[middle] == 0:\n",
    "                arr[lower], arr[middle] = arr[middle], arr[lower]\n",
    "                lower +=1\n",
    "                middle +=1\n",
    "            elif arr[middle] == 1:\n",
    "                middle += 1\n",
    "            else:\n",
    "                arr[middle], arr[highest] = arr[highest], arr[middle]\n",
    "                highest -=1\n",
    "arr = [0,1,2,1,2,0]\n",
    "Solution().sort012(arr)\n",
    "print(arr)"
   ]
  },
  {
   "cell_type": "markdown",
   "id": "1a628a07-72e8-4228-bd9e-2a1c14fad32c",
   "metadata": {},
   "source": [
    "# Binary Search\n",
    "> Given a sorted array arr and an integer k, find the position(0-based indexing) at which k is present in the array using binary search.\n",
    "> Note: If multiple occurrences are there, please return the smallest index."
   ]
  },
  {
   "cell_type": "code",
   "execution_count": 5,
   "id": "414e81d2-2c24-42a3-9988-488dde7a56af",
   "metadata": {},
   "outputs": [
    {
     "name": "stdout",
     "output_type": "stream",
     "text": [
      "1\n"
     ]
    }
   ],
   "source": [
    "class Solution:\n",
    "    def binarysearch(self, arr, k):\n",
    "        start, end = 0, len(arr) - 1\n",
    "\n",
    "        while start <= end:\n",
    "            mid = (start + end) // 2\n",
    "\n",
    "            if arr[mid] == k:\n",
    "                # Use a lambda function to find the smallest index\n",
    "                smallest_index = lambda i: i - sum(1 for j in range(i - 1, -1, -1) if arr[j] == k)\n",
    "                return mid - smallest_index(mid)\n",
    "            elif arr[mid] < k:\n",
    "                start = mid + 1\n",
    "            else:\n",
    "                end = mid - 1\n",
    "\n",
    "        return -1  # k not found in the array\n",
    "\n",
    "arr = [2, 5, 5, 5, 8, 12, 16, 23, 38, 56, 72, 91]\n",
    "k = 5\n",
    "\n",
    "solution = Solution()\n",
    "result = solution.binarysearch(arr, k)\n",
    "print(result)"
   ]
  },
  {
   "cell_type": "code",
   "execution_count": null,
   "id": "735b34d6-5957-49f4-a8f3-8f5a883ec10e",
   "metadata": {},
   "outputs": [],
   "source": []
  }
 ],
 "metadata": {
  "kernelspec": {
   "display_name": "Python 3 (ipykernel)",
   "language": "python",
   "name": "python3"
  },
  "language_info": {
   "codemirror_mode": {
    "name": "ipython",
    "version": 3
   },
   "file_extension": ".py",
   "mimetype": "text/x-python",
   "name": "python",
   "nbconvert_exporter": "python",
   "pygments_lexer": "ipython3",
   "version": "3.12.7"
  }
 },
 "nbformat": 4,
 "nbformat_minor": 5
}
