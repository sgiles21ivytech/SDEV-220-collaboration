{
 "cells": [
  {
   "cell_type": "markdown",
   "id": "54fd3ab3-6c1f-4dd1-82ea-6455d60cf86d",
   "metadata": {},
   "source": [
    "# 7.4\n",
    "> Make a list called things[ ]\n",
    "> The should contain three elements: \"mozzarella\" \"cinderella\" \"salmonella\""
   ]
  },
  {
   "cell_type": "code",
   "execution_count": 5,
   "id": "d6c147ad-1b7b-492c-a0da-3ed4eaba753b",
   "metadata": {},
   "outputs": [],
   "source": [
    "things = [\"mozzarella\", \"cinderella\", \"salmonella\"]"
   ]
  },
  {
   "cell_type": "markdown",
   "id": "45712c05-c7f7-427c-98a7-697e0715184e",
   "metadata": {},
   "source": [
    "# 7.5\n",
    "# Capitalize\n",
    "> the element in things[ ] that refers to a person.\n",
    "> Print this modified list."
   ]
  },
  {
   "cell_type": "code",
   "execution_count": 10,
   "id": "465c6294-592a-4ffb-8faa-39b5796c90ae",
   "metadata": {},
   "outputs": [
    {
     "name": "stdout",
     "output_type": "stream",
     "text": [
      "['mozzarella', 'Cinderella', 'salmonella']\n"
     ]
    }
   ],
   "source": [
    "things = [\"mozzarella\", \"cinderella\", \"salmonella\"]\n",
    "\n",
    "things[1] = things[1].capitalize()\n",
    "print(things)\n"
   ]
  },
  {
   "cell_type": "markdown",
   "id": "230e4136-e982-4f43-9f1b-d883355b0b11",
   "metadata": {},
   "source": [
    "# 7.6\n",
    "> Make the \"cheesy\" element of things[ ] all\n",
    "# UPPERCASE\n",
    "> Then print the list[ ]."
   ]
  },
  {
   "cell_type": "code",
   "execution_count": 13,
   "id": "67946fb8-93d8-45ad-99aa-0a9ec087b47a",
   "metadata": {},
   "outputs": [
    {
     "name": "stdout",
     "output_type": "stream",
     "text": [
      "['MOZZARELLA', 'Cinderella', 'salmonella']\n"
     ]
    }
   ],
   "source": [
    "things = ['mozzarella', 'Cinderella', 'salmonella']\n",
    "things[0] = things[0].upper()\n",
    "print(things)"
   ]
  },
  {
   "cell_type": "markdown",
   "id": "243a5a22-87ba-425e-b949-e9e3a7875dbe",
   "metadata": {},
   "source": [
    "# 7.7\n",
    "> Delete the diease element from things.\n",
    "> Print the modified list."
   ]
  },
  {
   "cell_type": "code",
   "execution_count": 16,
   "id": "6dde6ea7-af1d-4f6d-899d-19566e8662d4",
   "metadata": {},
   "outputs": [
    {
     "name": "stdout",
     "output_type": "stream",
     "text": [
      "['MOZZARELLA', 'Cinderella']\n"
     ]
    }
   ],
   "source": [
    "things = ['MOZZARELLA', 'Cinderella', 'salmonella']\n",
    "dieased_element = things.pop(2)\n",
    "print(things)\n"
   ]
  },
  {
   "cell_type": "markdown",
   "id": "3715daa7-f48a-4cad-b894-5220c57ae56d",
   "metadata": {},
   "source": [
    "# 9.1\n",
    "> Define a function called good()\n",
    "> It should return a list []: ['Harry', 'Ron', 'Hermione'].\n"
   ]
  },
  {
   "cell_type": "code",
   "execution_count": 19,
   "id": "0ad0816d-0923-4077-a42b-55a14045c9d3",
   "metadata": {},
   "outputs": [
    {
     "name": "stdout",
     "output_type": "stream",
     "text": [
      "['Harry', 'Ron', 'Hermione']\n"
     ]
    }
   ],
   "source": [
    "def good():\n",
    "    three_names = ['Harry', 'Ron', 'Hermione']\n",
    "    return three_names\n",
    "print(good())"
   ]
  },
  {
   "cell_type": "markdown",
   "id": "0b53de41-17e3-43e6-bb07-f14dce2d85e7",
   "metadata": {},
   "source": [
    "# 9.2\n",
    "> Define a generatior function called get_odds( ) that returns the odd numbers from range(10).\n",
    "> Use a for loop to find and print the third value returned."
   ]
  },
  {
   "cell_type": "code",
   "execution_count": 24,
   "id": "2fd9694a-b59c-45d1-b879-279de3b3ffd9",
   "metadata": {},
   "outputs": [
    {
     "name": "stdout",
     "output_type": "stream",
     "text": [
      "5\n"
     ]
    }
   ],
   "source": [
    "def get_odds():\n",
    "    list_ten = range(10)\n",
    "    odd_numbers_only = list_ten[1::2]\n",
    "    return odd_numbers_only\n",
    "values_returned = get_odds()\n",
    "for number in values_returned:\n",
    "    if number == values_returned[2]:\n",
    "        print(number)"
   ]
  },
  {
   "cell_type": "code",
   "execution_count": null,
   "id": "d8505bc2-aa8b-464a-bbfb-9baa87f57b61",
   "metadata": {},
   "outputs": [],
   "source": []
  }
 ],
 "metadata": {
  "kernelspec": {
   "display_name": "Python 3 (ipykernel)",
   "language": "python",
   "name": "python3"
  },
  "language_info": {
   "codemirror_mode": {
    "name": "ipython",
    "version": 3
   },
   "file_extension": ".py",
   "mimetype": "text/x-python",
   "name": "python",
   "nbconvert_exporter": "python",
   "pygments_lexer": "ipython3",
   "version": "3.12.7"
  }
 },
 "nbformat": 4,
 "nbformat_minor": 5
}
